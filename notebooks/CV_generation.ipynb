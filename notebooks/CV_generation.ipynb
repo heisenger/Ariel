{
 "cells": [
  {
   "cell_type": "code",
   "execution_count": 10,
   "metadata": {},
   "outputs": [],
   "source": [
    "import pandas as pd\n",
    "import numpy as np\n",
    "from pathlib import Path\n",
    "from sklearn.model_selection import KFold"
   ]
  },
  {
   "cell_type": "code",
   "execution_count": 3,
   "metadata": {},
   "outputs": [],
   "source": [
    "data_dir = \"../data/raw\"\n",
    "train_adc = pd.read_csv(Path(data_dir) / \"train_adc_info.csv\")"
   ]
  },
  {
   "cell_type": "code",
   "execution_count": 11,
   "metadata": {},
   "outputs": [],
   "source": [
    "star_1_ids = train_adc[train_adc.star == 0].planet_id\n",
    "star_0_ids = train_adc[train_adc.star == 1].planet_id"
   ]
  },
  {
   "cell_type": "code",
   "execution_count": 33,
   "metadata": {},
   "outputs": [],
   "source": [
    "kfold = KFold(n_splits=5, shuffle=False)\n",
    "\n",
    "star_0_fold_train = []\n",
    "star_0_fold_test = []\n",
    "star_1_fold_train = []\n",
    "star_1_fold_test = []\n",
    "\n",
    "for train_index, val_index in kfold.split(star_0_ids):\n",
    "    star_0_fold_train.append(list(star_0_ids.iloc[train_index]))\n",
    "    star_0_fold_test.append(list(star_0_ids.iloc[val_index]))\n",
    "\n",
    "for train_index, val_index in kfold.split(star_1_ids):\n",
    "    star_1_fold_train.append(list(star_1_ids.iloc[train_index]))\n",
    "    star_1_fold_test.append(list(star_1_ids.iloc[val_index]))\n",
    "\n",
    "# Add unseen star in to the validation sets\n",
    "for fold in star_0_fold_test:\n",
    "    fold.extend(star_1_ids.sample(n=50))\n",
    "\n",
    "for fold in star_1_fold_test:\n",
    "    fold.extend(star_0_ids.sample(n=47))"
   ]
  },
  {
   "cell_type": "code",
   "execution_count": 56,
   "metadata": {},
   "outputs": [
    {
     "name": "stdout",
     "output_type": "stream",
     "text": [
      "Star 0 folds. Train fold 0 : star\n",
      "1    261\n",
      "Name: count, dtype: int64\n",
      "Star 0 folds. Val fold 0 : star\n",
      "1    66\n",
      "0    50\n",
      "Name: count, dtype: int64\n",
      "Star 1 folds. Train fold 0: star\n",
      "0    276\n",
      "Name: count, dtype: int64\n",
      "Star 1 folds. Val fold 0: star\n",
      "0    70\n",
      "1    47\n",
      "Name: count, dtype: int64\n",
      "Star 0 folds. Train fold 1 : star\n",
      "1    261\n",
      "Name: count, dtype: int64\n",
      "Star 0 folds. Val fold 1 : star\n",
      "1    66\n",
      "0    50\n",
      "Name: count, dtype: int64\n",
      "Star 1 folds. Train fold 1: star\n",
      "0    277\n",
      "Name: count, dtype: int64\n",
      "Star 1 folds. Val fold 1: star\n",
      "0    69\n",
      "1    47\n",
      "Name: count, dtype: int64\n",
      "Star 0 folds. Train fold 2 : star\n",
      "1    262\n",
      "Name: count, dtype: int64\n",
      "Star 0 folds. Val fold 2 : star\n",
      "1    65\n",
      "0    50\n",
      "Name: count, dtype: int64\n",
      "Star 1 folds. Train fold 2: star\n",
      "0    277\n",
      "Name: count, dtype: int64\n",
      "Star 1 folds. Val fold 2: star\n",
      "0    69\n",
      "1    47\n",
      "Name: count, dtype: int64\n",
      "Star 0 folds. Train fold 3 : star\n",
      "1    262\n",
      "Name: count, dtype: int64\n",
      "Star 0 folds. Val fold 3 : star\n",
      "1    65\n",
      "0    50\n",
      "Name: count, dtype: int64\n",
      "Star 1 folds. Train fold 3: star\n",
      "0    277\n",
      "Name: count, dtype: int64\n",
      "Star 1 folds. Val fold 3: star\n",
      "0    69\n",
      "1    47\n",
      "Name: count, dtype: int64\n",
      "Star 0 folds. Train fold 4 : star\n",
      "1    262\n",
      "Name: count, dtype: int64\n",
      "Star 0 folds. Val fold 4 : star\n",
      "1    65\n",
      "0    50\n",
      "Name: count, dtype: int64\n",
      "Star 1 folds. Train fold 4: star\n",
      "0    277\n",
      "Name: count, dtype: int64\n",
      "Star 1 folds. Val fold 4: star\n",
      "0    69\n",
      "1    47\n",
      "Name: count, dtype: int64\n"
     ]
    }
   ],
   "source": [
    "# Check we did the right thing:\n",
    "\n",
    "for i in range(5):\n",
    "\n",
    "    print(\n",
    "        f\"Star 0 folds. Train fold {i} : {train_adc[train_adc.planet_id.isin(star_0_fold_train[i])].star.value_counts()}\"\n",
    "    )\n",
    "    print(\n",
    "        f\"Star 0 folds. Val fold {i} : {train_adc[train_adc.planet_id.isin(star_0_fold_test[i])].star.value_counts()}\"\n",
    "    )\n",
    "\n",
    "    print(\n",
    "        f\"Star 1 folds. Train fold {i}: {train_adc[train_adc.planet_id.isin(star_1_fold_train[i])].star.value_counts()}\"\n",
    "    )\n",
    "    print(\n",
    "        f\"Star 1 folds. Val fold {i}: {train_adc[train_adc.planet_id.isin(star_1_fold_test[i])].star.value_counts()}\"\n",
    "    )"
   ]
  },
  {
   "cell_type": "code",
   "execution_count": 60,
   "metadata": {},
   "outputs": [],
   "source": [
    "star_0_fold_train = pd.DataFrame(star_0_fold_train)\n",
    "star_0_fold_test = pd.DataFrame(star_0_fold_test)\n",
    "star_1_fold_train = pd.DataFrame(star_1_fold_train)\n",
    "star_1_fold_test = pd.DataFrame(star_1_fold_test)"
   ]
  },
  {
   "cell_type": "code",
   "execution_count": 61,
   "metadata": {},
   "outputs": [],
   "source": [
    "star_0_fold_train.to_csv(\"../config/star_0_train_indices.csv\")\n",
    "star_0_fold_test.to_csv(\"../config/star_0_test_indices.csv\")\n",
    "star_1_fold_train.to_csv(\"../config/star_1_train_indices.csv\")\n",
    "star_1_fold_test.to_csv(\"../config/star_1_test_indices.csv\")"
   ]
  },
  {
   "cell_type": "code",
   "execution_count": null,
   "metadata": {},
   "outputs": [],
   "source": []
  }
 ],
 "metadata": {
  "kernelspec": {
   "display_name": "KaggleAriel",
   "language": "python",
   "name": "python3"
  },
  "language_info": {
   "codemirror_mode": {
    "name": "ipython",
    "version": 3
   },
   "file_extension": ".py",
   "mimetype": "text/x-python",
   "name": "python",
   "nbconvert_exporter": "python",
   "pygments_lexer": "ipython3",
   "version": "3.12.5"
  }
 },
 "nbformat": 4,
 "nbformat_minor": 2
}
