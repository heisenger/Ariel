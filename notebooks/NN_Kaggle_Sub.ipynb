{
 "cells": [
  {
   "cell_type": "code",
   "execution_count": 1,
   "metadata": {},
   "outputs": [
    {
     "name": "stdout",
     "output_type": "stream",
     "text": [
      "Using device: cuda\n"
     ]
    },
    {
     "name": "stderr",
     "output_type": "stream",
     "text": [
      "/tmp/ipykernel_4358/122872139.py:166: FutureWarning: You are using `torch.load` with `weights_only=False` (the current default value), which uses the default pickle module implicitly. It is possible to construct malicious pickle data which will execute arbitrary code during unpickling (See https://github.com/pytorch/pytorch/blob/main/SECURITY.md#untrusted-models for more details). In a future release, the default value for `weights_only` will be flipped to `True`. This limits the functions that could be executed during unpickling. Arbitrary objects will no longer be allowed to be loaded via this mode unless they are explicitly allowlisted by the user via `torch.serialization.add_safe_globals`. We recommend you start setting `weights_only=True` for any use case where you don't have full control of the loaded file. Please open an issue on GitHub for any issues related to this experimental feature.\n",
      "  model.load_state_dict(torch.load(\"best_model.pth\"))\n"
     ]
    },
    {
     "data": {
      "text/plain": [
       "CNN_RNN_Model(\n",
       "  (conv1): Conv2d(2, 32, kernel_size=(5, 3), stride=(1, 1))\n",
       "  (conv2): Conv2d(32, 64, kernel_size=(3, 5), stride=(1, 1))\n",
       "  (pool): MaxPool2d(kernel_size=(2, 2), stride=(2, 2), padding=0, dilation=1, ceil_mode=False)\n",
       "  (conv3): Conv2d(64, 128, kernel_size=(3, 3), stride=(1, 1))\n",
       "  (conv4): Conv2d(128, 256, kernel_size=(3, 3), stride=(1, 1))\n",
       "  (conv5): Conv2d(256, 512, kernel_size=(3, 3), stride=(1, 1))\n",
       "  (dropout): Dropout(p=0.5, inplace=False)\n",
       "  (lstm): LSTM(15360, 64, num_layers=2, batch_first=True, bidirectional=True)\n",
       "  (conv_psd1): Conv2d(1, 32, kernel_size=(3, 3), stride=(1, 1), padding=(1, 1))\n",
       "  (conv_psd2): Conv2d(32, 64, kernel_size=(3, 3), stride=(1, 1), padding=(1, 1))\n",
       "  (pool_psd): MaxPool2d(kernel_size=(2, 2), stride=(2, 2), padding=0, dilation=1, ceil_mode=False)\n",
       "  (conv_psd3): Conv2d(64, 128, kernel_size=(3, 3), stride=(1, 1), padding=(1, 1))\n",
       "  (conv_psd4): Conv2d(128, 256, kernel_size=(3, 3), stride=(1, 1), padding=(1, 1))\n",
       "  (fc1): Linear(in_features=206208, out_features=256, bias=True)\n",
       "  (fc2): Linear(in_features=256, out_features=128, bias=True)\n",
       "  (fc3): Linear(in_features=128, out_features=282, bias=True)\n",
       ")"
      ]
     },
     "execution_count": 1,
     "metadata": {},
     "output_type": "execute_result"
    }
   ],
   "source": [
    "import numpy as np\n",
    "import pandas as pd\n",
    "import torch\n",
    "import torch.nn as nn\n",
    "import torch.optim as optim\n",
    "from torch.utils.data import DataLoader, TensorDataset\n",
    "from torch.utils.data import DataLoader, TensorDataset, Subset\n",
    "\n",
    "\n",
    "import matplotlib.pyplot as plt\n",
    "import torch.nn.functional as F\n",
    "from scipy.fftpack import fft\n",
    "import numpy as np\n",
    "from sklearn.model_selection import KFold\n",
    "\n",
    "\n",
    "class CNN_RNN_Model(nn.Module):\n",
    "    def __init__(self, time_steps, n_frequencies, hidden_size=64, num_layers=2):\n",
    "        super(CNN_RNN_Model, self).__init__()\n",
    "\n",
    "        # Convolutional layers for cleaned and raw time series data\n",
    "        self.conv1 = nn.Conv2d(\n",
    "            in_channels=2, out_channels=32, kernel_size=(5, 3), stride=(1, 1)\n",
    "        )\n",
    "        self.conv2 = nn.Conv2d(\n",
    "            in_channels=32, out_channels=64, kernel_size=(3, 5), stride=(1, 1)\n",
    "        )\n",
    "        self.pool = nn.MaxPool2d(kernel_size=(2, 2))\n",
    "        self.conv3 = nn.Conv2d(\n",
    "            in_channels=64, out_channels=128, kernel_size=(3, 3), stride=(1, 1)\n",
    "        )\n",
    "        self.conv4 = nn.Conv2d(\n",
    "            in_channels=128, out_channels=256, kernel_size=(3, 3), stride=(1, 1)\n",
    "        )\n",
    "        self.conv5 = nn.Conv2d(\n",
    "            in_channels=256, out_channels=512, kernel_size=(3, 3), stride=(1, 1)\n",
    "        )\n",
    "        self.dropout = nn.Dropout(p=0.5)\n",
    "\n",
    "        # Calculate the output dimensions after convolution and pooling\n",
    "        dummy_input = torch.zeros(1, 2, time_steps, n_frequencies)\n",
    "        conv_output_shape = self._get_conv_output(dummy_input)\n",
    "\n",
    "        # Bidirectional LSTM for sequential learning\n",
    "        self.lstm = nn.LSTM(\n",
    "            input_size=conv_output_shape[2],\n",
    "            hidden_size=hidden_size,\n",
    "            batch_first=True,\n",
    "            num_layers=num_layers,\n",
    "            bidirectional=True,\n",
    "        )\n",
    "\n",
    "        # Convolutional layers for PSD data\n",
    "        self.conv_psd1 = nn.Conv2d(\n",
    "            in_channels=1,\n",
    "            out_channels=32,\n",
    "            kernel_size=(3, 3),\n",
    "            stride=(1, 1),\n",
    "            padding=(1, 1),\n",
    "        )\n",
    "        self.conv_psd2 = nn.Conv2d(\n",
    "            in_channels=32,\n",
    "            out_channels=64,\n",
    "            kernel_size=(3, 3),\n",
    "            stride=(1, 1),\n",
    "            padding=(1, 1),\n",
    "        )\n",
    "        self.pool_psd = nn.MaxPool2d(kernel_size=(2, 2))\n",
    "        self.conv_psd3 = nn.Conv2d(\n",
    "            in_channels=64,\n",
    "            out_channels=128,\n",
    "            kernel_size=(3, 3),\n",
    "            stride=(1, 1),\n",
    "            padding=(1, 1),\n",
    "        )\n",
    "        self.conv_psd4 = nn.Conv2d(\n",
    "            in_channels=128,\n",
    "            out_channels=256,\n",
    "            kernel_size=(3, 3),\n",
    "            stride=(1, 1),\n",
    "            padding=(1, 1),\n",
    "        )\n",
    "\n",
    "        # Calculate the output dimensions after convolution and pooling for PSD data\n",
    "        dummy_psd_input = torch.zeros(1, 1, time_steps, n_frequencies)\n",
    "        psd_output_shape = self._get_psd_conv_output(dummy_psd_input)\n",
    "\n",
    "        # Fully connected layers for final prediction\n",
    "        self.fc1 = nn.Linear(\n",
    "            hidden_size * 2  # Multiply by 2 for bidirectional LSTM\n",
    "            + psd_output_shape[1] * psd_output_shape[2] * psd_output_shape[3],\n",
    "            256,\n",
    "        )\n",
    "        self.fc2 = nn.Linear(256, 128)\n",
    "        self.fc3 = nn.Linear(128, n_frequencies)\n",
    "\n",
    "    def _get_conv_output(self, x):\n",
    "        x = self.pool(F.relu(self.conv1(x)))\n",
    "        x = self.pool(F.relu(self.conv2(x)))\n",
    "        x = F.relu(self.conv3(x))\n",
    "        x = self.pool(F.relu(self.conv4(x)))\n",
    "        x = F.relu(self.conv5(x))\n",
    "        return x.view(\n",
    "            x.size(0), x.size(2), -1\n",
    "        ).shape  # Output as (batch, time_steps, features)\n",
    "\n",
    "    def _get_psd_conv_output(self, x):\n",
    "        x = self.pool_psd(F.relu(self.conv_psd1(x)))\n",
    "        x = self.pool_psd(F.relu(self.conv_psd2(x)))\n",
    "        x = F.relu(self.conv_psd3(x))\n",
    "        x = self.pool_psd(F.relu(self.conv_psd4(x)))\n",
    "        return x.shape  # Output shape\n",
    "\n",
    "    def forward(self, x_clean, x_raw, x_psd):\n",
    "        # Combine cleaned and raw time series data as two channels\n",
    "        x_combined = torch.stack((x_clean, x_raw), dim=1)\n",
    "\n",
    "        # Apply convolutional layers to combined time series data\n",
    "        x_combined = self.pool(F.relu(self.conv1(x_combined)))\n",
    "        x_combined = self.pool(F.relu(self.conv2(x_combined)))\n",
    "        x_combined = F.relu(self.conv3(x_combined))\n",
    "        x_combined = self.pool(F.relu(self.conv4(x_combined)))\n",
    "        x_combined = F.relu(self.conv5(x_combined))\n",
    "        x_combined = self.dropout(x_combined)\n",
    "\n",
    "        # Reshape for LSTM input\n",
    "        x_combined = x_combined.view(\n",
    "            x_combined.size(0), x_combined.size(2), -1\n",
    "        )  # (batch_size, new_time_steps, new_features)\n",
    "\n",
    "        # Bidirectional LSTM layer\n",
    "        x_combined, _ = self.lstm(x_combined)\n",
    "\n",
    "        # Use the output of the last LSTM time step\n",
    "        x_combined = x_combined[:, -1, :]\n",
    "\n",
    "        # Apply convolutional layers to PSD data\n",
    "        x_psd = x_psd.unsqueeze(1)  # Add a channel dimension\n",
    "        x_psd = self.pool_psd(F.relu(self.conv_psd1(x_psd)))\n",
    "        x_psd = self.pool_psd(F.relu(self.conv_psd2(x_psd)))\n",
    "        x_psd = F.relu(self.conv_psd3(x_psd))\n",
    "        x_psd = self.pool_psd(F.relu(self.conv_psd4(x_psd)))\n",
    "        x_psd = x_psd.view(x_psd.size(0), -1)  # Flatten\n",
    "        x_psd = self.dropout(x_psd)\n",
    "\n",
    "        # Concatenate features from both branches\n",
    "        x = torch.cat((x_combined, x_psd), dim=1)\n",
    "\n",
    "        # Fully connected layers for final prediction\n",
    "        x = F.relu(self.fc1(x))\n",
    "        x = self.dropout(x)\n",
    "        x = F.relu(self.fc2(x))\n",
    "        x = self.fc3(x)\n",
    "\n",
    "        return x\n",
    "\n",
    "\n",
    "# Load the best model\n",
    "model = CNN_RNN_Model(time_steps=187, n_frequencies=282)\n",
    "\n",
    "# Check if GPU is available\n",
    "device = torch.device(\"cuda\" if torch.cuda.is_available() else \"cpu\")\n",
    "print(f\"Using device: {device}\")\n",
    "model.to(device)\n",
    "\n",
    "model.load_state_dict(torch.load(\"best_model.pth\"))\n",
    "model.eval()  # Set the model to evaluation mode"
   ]
  },
  {
   "cell_type": "code",
   "execution_count": 15,
   "metadata": {},
   "outputs": [],
   "source": [
    "def compute_spectral_density(signal):\n",
    "    # Perform the Fast Fourier Transform (FFT)\n",
    "    fft_values = np.fft.fft(signal)\n",
    "\n",
    "    # Calculate the Power Spectral Density\n",
    "    psd = np.abs(fft_values) ** 2 / len(signal)\n",
    "\n",
    "    return psd\n",
    "\n",
    "\n",
    "def load_npy_in_batches(file_path, batch_size):\n",
    "    data = np.load(file_path, mmap_mode='r')\n",
    "    total_samples = data.shape[0]\n",
    "\n",
    "    for start_idx in range(0, total_samples, batch_size):\n",
    "        end_idx = min(start_idx + batch_size, total_samples)\n",
    "        yield data[start_idx:end_idx]\n",
    "\n",
    "\n",
    "def prepare_submission(nn_pred, wc_ratio):\n",
    "    nn_pred = nn_pred / 1000\n",
    "    nn_pred.clip(0)\n",
    "    nn_pred = np.nan_to_num(nn_pred, nan=0.0)\n",
    "    nn_pred += wc_ratio\n",
    "    nn_pred = nn_pred[:, ::-1]\n",
    "    return nn_pred"
   ]
  },
  {
   "cell_type": "code",
   "execution_count": 46,
   "metadata": {},
   "outputs": [
    {
     "name": "stdout",
     "output_type": "stream",
     "text": [
      "(673, 282)\n"
     ]
    }
   ],
   "source": [
    "# Example usage\n",
    "batch_size = 32\n",
    "fitted_lc_batches = load_npy_in_batches(\n",
    "    \"../outputs/results/basic_fit/lc_curves.npy\", batch_size)\n",
    "airs_batches = load_npy_in_batches(\n",
    "    \"../data/processed/kaggle_sub_processed/airs_v4.npy\", batch_size)\n",
    "\n",
    "\n",
    "predictions = []\n",
    "# Process each batch\n",
    "for lc_batch, airs_batch in zip(fitted_lc_batches, airs_batches):\n",
    "\n",
    "    airs_batch = airs_batch.sum(axis=3)\n",
    "    # Normalize the data\n",
    "    normalized_lc = lc_batch / lc_batch[:, :10, :].mean(axis=1, keepdims=True)\n",
    "    normalized_airs = airs_batch / \\\n",
    "        airs_batch[:, :10].mean(axis=1, keepdims=True)\n",
    "\n",
    "    mean_lc = normalized_lc.mean(axis=1, keepdims=True)\n",
    "    demeaned_lc = normalized_lc - mean_lc\n",
    "\n",
    "    psd_lc = compute_spectral_density(demeaned_lc)\n",
    "\n",
    "    normalized_psd_lc = psd_lc / \\\n",
    "        np.percentile(psd_lc, 95, axis=1, keepdims=True)\n",
    "\n",
    "    # Convert to torch tensors\n",
    "    example_clean = torch.from_numpy(normalized_lc).float()\n",
    "    example_raw = torch.from_numpy(normalized_airs).float()\n",
    "    example_psd = torch.from_numpy(normalized_psd_lc).float()\n",
    "\n",
    "    # Create DataLoader\n",
    "    dataset = TensorDataset(example_clean, example_raw, example_psd)\n",
    "    dataloader = DataLoader(dataset, batch_size=batch_size, shuffle=False)\n",
    "\n",
    "    # Process each batch with the model\n",
    "    with torch.no_grad():\n",
    "        for x_clean, x_raw, x_psd in dataloader:\n",
    "            outputs = model(x_clean.to(device), x_raw.to(\n",
    "                device), x_psd.to(device))\n",
    "            predictions.append(outputs.cpu().numpy())\n",
    "\n",
    "# Concatenate all predictions\n",
    "predictions = np.concatenate(predictions, axis=0)\n",
    "print(predictions.shape)  # Should match the input data shape"
   ]
  },
  {
   "cell_type": "code",
   "execution_count": 64,
   "metadata": {},
   "outputs": [
    {
     "data": {
      "text/plain": [
       "array([0.00027335, 0.00036664, 0.00038254, 0.00039222, 0.00039169,\n",
       "       0.000411  , 0.00041031, 0.00038859, 0.00039173, 0.0004038 ,\n",
       "       0.00040558, 0.00040301, 0.00039587, 0.00038085, 0.00038505,\n",
       "       0.00039112, 0.00037968, 0.00036996, 0.00036024, 0.0003473 ,\n",
       "       0.00032929, 0.00031593, 0.00030182, 0.00029304, 0.00028027,\n",
       "       0.00026699, 0.00025841, 0.00024486, 0.00023658, 0.00020876,\n",
       "       0.0001919 , 0.00018379, 0.00020066, 0.00019439, 0.00019406,\n",
       "       0.00018902, 0.0001858 , 0.00019112, 0.0001912 , 0.0001871 ,\n",
       "       0.00019112, 0.00019256, 0.00018592, 0.00018158, 0.00017773,\n",
       "       0.0001858 , 0.00018999, 0.00020218, 0.00020233, 0.0001933 ,\n",
       "       0.00019511, 0.00020177, 0.00018706, 0.00018256, 0.0001743 ,\n",
       "       0.0001778 , 0.00017619, 0.00018449, 0.00017256, 0.00017324,\n",
       "       0.00017869, 0.00017946, 0.00018519, 0.00019341, 0.0001962 ,\n",
       "       0.00019771, 0.00019954, 0.00021014, 0.00022241, 0.00022531,\n",
       "       0.00022787, 0.00023064, 0.00023571, 0.00024061, 0.00024068,\n",
       "       0.00024011, 0.00023324, 0.00023446, 0.00024013, 0.00024362,\n",
       "       0.00023825, 0.00023835, 0.00024698, 0.00026354, 0.00026677,\n",
       "       0.0002613 , 0.00026579, 0.00028865, 0.00031175, 0.00032759,\n",
       "       0.00034441, 0.00037608, 0.00039089, 0.00038093, 0.00037911,\n",
       "       0.00038185, 0.00037933, 0.00037771, 0.00037213, 0.00037655,\n",
       "       0.00037691, 0.00037541, 0.00036964, 0.00036423, 0.00036527,\n",
       "       0.00036601, 0.00036013, 0.00036292, 0.00036386, 0.0003576 ,\n",
       "       0.00035953, 0.00036404, 0.0003631 , 0.00035805, 0.00035254,\n",
       "       0.0003518 , 0.00034616, 0.00034578, 0.00033815, 0.00033547,\n",
       "       0.000332  , 0.00033253, 0.00032851, 0.00032358, 0.00031891,\n",
       "       0.00031704, 0.00031366, 0.00030624, 0.00029855, 0.00029569,\n",
       "       0.00029269, 0.00028638, 0.00027663, 0.00026401, 0.00025164,\n",
       "       0.00025323, 0.00024943, 0.00023662, 0.00021971, 0.00020314,\n",
       "       0.00019519, 0.00019443, 0.00019077, 0.00018557, 0.00018889,\n",
       "       0.00018948, 0.00018831, 0.0001958 , 0.00020105, 0.00021495,\n",
       "       0.00022618, 0.00024187, 0.0002748 , 0.00032014, 0.00035313,\n",
       "       0.000363  , 0.00035922, 0.00036488, 0.00036162, 0.00034606,\n",
       "       0.0003239 , 0.00031427, 0.0003278 , 0.00034822, 0.00035522,\n",
       "       0.00034168, 0.00033174, 0.00032244, 0.00030442, 0.000287  ,\n",
       "       0.00028368, 0.00028413, 0.00027788, 0.00026455, 0.00025593,\n",
       "       0.00024194, 0.00023334, 0.00023491, 0.00026801, 0.00036645,\n",
       "       0.00050451, 0.00061702, 0.00066133, 0.0006364 , 0.00057178,\n",
       "       0.00049923, 0.0004305 , 0.00037632, 0.00033977, 0.00031151,\n",
       "       0.00028854, 0.00027225, 0.00025993, 0.00025409, 0.00026605,\n",
       "       0.00028727, 0.0003    , 0.00030248, 0.0002973 , 0.00029228,\n",
       "       0.0002883 , 0.00028977, 0.00028349, 0.00027766, 0.00027102,\n",
       "       0.0002719 , 0.00027796, 0.00028941, 0.00029377, 0.00028202,\n",
       "       0.00027272, 0.00026421, 0.00026113, 0.0002594 , 0.00026186,\n",
       "       0.00026763, 0.00027393, 0.0002738 , 0.00026501, 0.00025981,\n",
       "       0.00024663, 0.00024039, 0.00023553, 0.00023261, 0.00022971,\n",
       "       0.00022297, 0.00021537, 0.00021012, 0.00020514, 0.00020206,\n",
       "       0.00019909, 0.00019571, 0.00019558, 0.00019422, 0.00019309,\n",
       "       0.00019193, 0.00018983, 0.00018974, 0.00018839, 0.00018719,\n",
       "       0.0001858 , 0.00018733, 0.00018928, 0.00018785, 0.00018686,\n",
       "       0.00018685, 0.00019034, 0.00019497, 0.00019471, 0.00019501,\n",
       "       0.00019844, 0.00019609, 0.00019459, 0.00020366, 0.00020423,\n",
       "       0.00020518, 0.00020956, 0.00020301, 0.00020382, 0.00019948,\n",
       "       0.00020447, 0.00020928, 0.00021021, 0.0002155 , 0.00021562,\n",
       "       0.00021789, 0.00021477, 0.00021893, 0.00022674, 0.00022888,\n",
       "       0.00023554, 0.00022944, 0.00023014, 0.00022958, 0.00022874,\n",
       "       0.00023345, 0.00023745, 0.00023755, 0.00022879, 0.00022876,\n",
       "       0.00023575, 0.00023989, 0.0002383 ])"
      ]
     },
     "execution_count": 64,
     "metadata": {},
     "output_type": "execute_result"
    }
   ],
   "source": [
    "sigmas[0]"
   ]
  },
  {
   "cell_type": "code",
   "execution_count": 47,
   "metadata": {},
   "outputs": [],
   "source": [
    "wc_ratio = np.load(\"../outputs/results/basic_fit/wc_ratio.npy\")\n",
    "lc_ratio = np.load(\"../outputs/results/basic_fit/lc_ratio.npy\")"
   ]
  },
  {
   "cell_type": "code",
   "execution_count": 17,
   "metadata": {},
   "outputs": [],
   "source": [
    "new_predictions = prepare_submission(predictions, wc_ratio)"
   ]
  },
  {
   "cell_type": "code",
   "execution_count": 59,
   "metadata": {},
   "outputs": [
    {
     "data": {
      "text/plain": [
       "(673, 282)"
      ]
     },
     "execution_count": 59,
     "metadata": {},
     "output_type": "execute_result"
    }
   ],
   "source": [
    "lc_ratio.shape"
   ]
  },
  {
   "cell_type": "code",
   "execution_count": 60,
   "metadata": {},
   "outputs": [
    {
     "data": {
      "text/plain": [
       "<matplotlib.legend.Legend at 0x7f534ced27e0>"
      ]
     },
     "execution_count": 60,
     "metadata": {},
     "output_type": "execute_result"
    },
    {
     "data": {
      "image/png": "[encoded data removed]",
      "text/plain": [
       "<Figure size 640x480 with 1 Axes>"
      ]
     },
     "metadata": {},
     "output_type": "display_data"
    }
   ],
   "source": [
    "\n",
    "nn_error_array = ((new_predictions - gt.iloc[:, 2:]) ** 2).mean(axis=0)\n",
    "lc_error_array = ((lc_ratio[:, ::-1] - gt.iloc[:, 2:]) ** 2).mean(axis=0)\n",
    "mask = nn_error_array > lc_error_array\n",
    "\n",
    "combined_ratio = wc_ratio.copy()\n",
    "combined_ratio[:, mask] = lc_ratio[:, ::-1][:, mask]\n",
    "\n",
    "\n",
    "plt.plot(((wc_ratio - gt.iloc[:, 2:]) ** 2).mean(axis=0), label='wc_ratio')\n",
    "plt.plot(((lc_ratio[:, ::-1] - gt.iloc[:, 2:])\n",
    "         ** 2).mean(axis=0), label='lc_ratio')\n",
    "plt.plot(((new_predictions - gt.iloc[:, 2:])\n",
    "         ** 2).mean(axis=0), label='new_predictions')\n",
    "plt.plot(((combined_ratio - gt.iloc[:, 2:]) ** 2).mean(axis=0))\n",
    "# plt.plot(combined_array)\n",
    "plt.legend()"
   ]
  },
  {
   "cell_type": "code",
   "execution_count": 21,
   "metadata": {},
   "outputs": [],
   "source": [
    "gt = pd.read_csv(\"../data/raw/train_labels.csv\")"
   ]
  },
  {
   "cell_type": "code",
   "execution_count": 35,
   "metadata": {},
   "outputs": [],
   "source": [
    "import sys\n",
    "\n",
    "sys.path.append(\"../\")\n",
    "sys.path.append(\"../scripts\")"
   ]
  },
  {
   "cell_type": "code",
   "execution_count": 62,
   "metadata": {},
   "outputs": [
    {
     "name": "stdout",
     "output_type": "stream",
     "text": [
      "Best scale at 1.5100000000000005, best score at 0.45429327200718744\n"
     ]
    }
   ],
   "source": [
    "from metrics import simple_score, score\n",
    "\n",
    "sample_sub = pd.read_csv(\"../data/raw/sample_submission.csv\")\n",
    "\n",
    "# Find the best scaling value for sigma\n",
    "best_score = 0\n",
    "best_scale = 0\n",
    "naive_mean = np.mean(gt.values[:, 1:])\n",
    "naive_sigma = np.std(gt.values[:, 1:])\n",
    "best_sigma = None\n",
    "\n",
    "for i in np.arange(1, 3, 0.01):\n",
    "    preds = new_predictions.copy()\n",
    "    # preds = combined_ratio.copy()\n",
    "\n",
    "    constant_value = np.full((preds.shape[0], 1), preds.mean().mean())\n",
    "    # print(preds.shape)\n",
    "\n",
    "    sigmas = np.vstack(\n",
    "        [np.std((preds - gt.iloc[:, 2:].values), axis=0) * i]\n",
    "        * preds.shape[0]\n",
    "    )\n",
    "\n",
    "    preds = np.hstack((constant_value, preds))\n",
    "    constant_value = np.full((sigmas.shape[0], 1), sigmas.mean())\n",
    "    sigmas = np.hstack((constant_value, sigmas))\n",
    "\n",
    "    sub_frame = pd.DataFrame(\n",
    "        np.concatenate([preds, sigmas], axis=1), columns=sample_sub.columns[1:]\n",
    "    )\n",
    "\n",
    "    curren_score = score(\n",
    "        gt.iloc[:, 1:], sub_frame, \"\", naive_mean, naive_sigma, 10**-5\n",
    "    )\n",
    "    if curren_score > best_score:\n",
    "        best_score = curren_score\n",
    "        best_scale = i\n",
    "        best_sigma = sigmas\n",
    "\n",
    "print(f\"Best scale at {best_scale}, best score at {best_score}\")"
   ]
  },
  {
   "cell_type": "code",
   "execution_count": 45,
   "metadata": {},
   "outputs": [
    {
     "data": {
      "text/plain": [
       "np.float64(0.00027334667096966643)"
      ]
     },
     "execution_count": 45,
     "metadata": {},
     "output_type": "execute_result"
    }
   ],
   "source": [
    "sigmas.mean()"
   ]
  },
  {
   "cell_type": "code",
   "execution_count": null,
   "metadata": {},
   "outputs": [],
   "source": []
  }
 ],
 "metadata": {
  "kernelspec": {
   "display_name": "KaggleAriel",
   "language": "python",
   "name": "python3"
  },
  "language_info": {
   "codemirror_mode": {
    "name": "ipython",
    "version": 3
   },
   "file_extension": ".py",
   "mimetype": "text/x-python",
   "name": "python",
   "nbconvert_exporter": "python",
   "pygments_lexer": "ipython3",
   "version": "3.12.5"
  }
 },
 "nbformat": 4,
 "nbformat_minor": 2
}
